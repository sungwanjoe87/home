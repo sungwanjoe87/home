{
  "nbformat": 4,
  "nbformat_minor": 0,
  "metadata": {
    "colab": {
      "name": "02.딥러닝_mnist.ipynb",
      "provenance": [],
      "collapsed_sections": [],
      "authorship_tag": "ABX9TyO1Cj8uQ/y/7PXtV7dtx1yZ",
      "include_colab_link": true
    },
    "kernelspec": {
      "name": "python3",
      "display_name": "Python 3"
    },
    "language_info": {
      "name": "python"
    }
  },
  "cells": [
    {
      "cell_type": "markdown",
      "metadata": {
        "id": "view-in-github",
        "colab_type": "text"
      },
      "source": [
        "<a href=\"https://colab.research.google.com/github/sungwanjoe87/home/blob/main/11.deep/d0714/02_%EB%94%A5%EB%9F%AC%EB%8B%9D_mnist.ipynb\" target=\"_parent\"><img src=\"https://colab.research.google.com/assets/colab-badge.svg\" alt=\"Open In Colab\"/></a>"
      ]
    },
    {
      "cell_type": "markdown",
      "source": [
        "## Keras 딥러닝 - mnist"
      ],
      "metadata": {
        "id": "-qE-H8iqoNf3"
      }
    },
    {
      "cell_type": "code",
      "source": [
        "import sklearn\n",
        "from sklearn.linear_model import SGDClassifier\n",
        "import numpy as np\n",
        "import pandas as pd\n",
        "import matplotlib.pyplot as plt\n",
        "import matplotlib\n",
        "from sklearn.model_selection import train_test_split\n",
        "matplotlib.rcParams['font.family'] = 'Malgun Gothic'\n",
        "matplotlib.rcParams['axes.unicode_minus'] = False\n",
        "from tensorflow import keras"
      ],
      "metadata": {
        "id": "B9FeFlrBoTn3"
      },
      "execution_count": 142,
      "outputs": []
    },
    {
      "cell_type": "code",
      "source": [
        "## 데이터 불러오기\n",
        "(train_data,train_label),(test_data,test_label) = keras.datasets.fashion_mnist.load_data()"
      ],
      "metadata": {
        "id": "mACSah5-oknv"
      },
      "execution_count": 143,
      "outputs": []
    },
    {
      "cell_type": "code",
      "source": [
        "## 데이터전처리\n",
        "\n",
        "#1.데이터 확인. - pandas 는 info, describe 로 확인.\n",
        "train_data.shape #(60000, 28, 28)\n"
      ],
      "metadata": {
        "colab": {
          "base_uri": "https://localhost:8080/"
        },
        "id": "OgeScxODpQge",
        "outputId": "edcf7e86-097d-4997-c732-ed47449ef43a"
      },
      "execution_count": 144,
      "outputs": [
        {
          "output_type": "execute_result",
          "data": {
            "text/plain": [
              "(60000, 28, 28)"
            ]
          },
          "metadata": {},
          "execution_count": 144
        }
      ]
    },
    {
      "cell_type": "code",
      "source": [
        "train_label.shape #(60000,)"
      ],
      "metadata": {
        "colab": {
          "base_uri": "https://localhost:8080/"
        },
        "id": "_131-2GSpjHW",
        "outputId": "23425829-fe5a-4537-fc48-ab89274f9a72"
      },
      "execution_count": 145,
      "outputs": [
        {
          "output_type": "execute_result",
          "data": {
            "text/plain": [
              "(60000,)"
            ]
          },
          "metadata": {},
          "execution_count": 145
        }
      ]
    },
    {
      "cell_type": "code",
      "source": [
        "# 2. class 확인. 클래스 당 데이터 숫자 확인. pandas는 특성 컬럼확인. 클래스 컬럼 확인.\n",
        "np.unique(train_label, return_counts=True)"
      ],
      "metadata": {
        "colab": {
          "base_uri": "https://localhost:8080/"
        },
        "id": "-_G2sc5Up5E9",
        "outputId": "66d57f0b-fb20-4ef1-b8eb-1f3f90a8861a"
      },
      "execution_count": 146,
      "outputs": [
        {
          "output_type": "execute_result",
          "data": {
            "text/plain": [
              "(array([0, 1, 2, 3, 4, 5, 6, 7, 8, 9], dtype=uint8),\n",
              " array([6000, 6000, 6000, 6000, 6000, 6000, 6000, 6000, 6000, 6000]))"
            ]
          },
          "metadata": {},
          "execution_count": 146
        }
      ]
    },
    {
      "cell_type": "code",
      "source": [
        "## 정규화/표준화\n",
        "train_scaled = train_data/255.0\n",
        "test_scaled = test_data/255.0\n"
      ],
      "metadata": {
        "id": "-i2ydJ3Hqa8O"
      },
      "execution_count": 147,
      "outputs": []
    },
    {
      "cell_type": "code",
      "source": [
        "# train_scaled  = train_scaled.reshape(-1,28*28)\n",
        "# test_scaled  = test_scaled.reshape(-1,28*28)\n"
      ],
      "metadata": {
        "id": "VhcB7ezEsJxI"
      },
      "execution_count": 148,
      "outputs": []
    },
    {
      "cell_type": "code",
      "source": [
        "## 검증데이터 나누기\n",
        "# train_data, test_data, val,data\n",
        "sub_data,val_data,sub_label,val_label = train_test_split(train_scaled,train_label)"
      ],
      "metadata": {
        "id": "lu6dfhIbpJMG"
      },
      "execution_count": 149,
      "outputs": []
    },
    {
      "cell_type": "code",
      "source": [
        "## 클래스 개수 - 10개\n",
        "np.unique(train_label)"
      ],
      "metadata": {
        "colab": {
          "base_uri": "https://localhost:8080/"
        },
        "id": "9kFHinzYsvG1",
        "outputId": "464f67f4-e183-41d7-bb74-a146c5451b59"
      },
      "execution_count": 150,
      "outputs": [
        {
          "output_type": "execute_result",
          "data": {
            "text/plain": [
              "array([0, 1, 2, 3, 4, 5, 6, 7, 8, 9], dtype=uint8)"
            ]
          },
          "metadata": {},
          "execution_count": 150
        }
      ]
    },
    {
      "cell_type": "code",
      "source": [
        "## 1.딥러닝 선언 (셋중 하나만)\n",
        "## keras 출력층 = 클래스 갯수와 같아야 함\n",
        "## 클래스 다중 : activation='softmax', 이진 : sigmoid\n",
        "## 출력층\n",
        "# dense1 = keras.layers.Dense(100, activation='relu',input_shape=(28,28))\n",
        "# dense2 = keras.layers.Dense(10, activation='softmax')\n",
        "# ## 알고리즘 선택.\n",
        "# model = keras.Sequential(dense1,dense2)\n",
        "# ## 설정. 이진분류에서는 - sparse_binary_crossentropy / accuracy : 정확도 출력. sparse_ : 라벨에 대한 원핫인코딩\n",
        "# model.compile(loss='sparse_categorical_crossentropy',metrics='accuracy')"
      ],
      "metadata": {
        "id": "hrlCbmqQsHH4"
      },
      "execution_count": 151,
      "outputs": []
    },
    {
      "cell_type": "code",
      "source": [
        "## 2.딥러닝 선언. (셋중 하나만)\n",
        "# model = keras.Sequential([\n",
        "#                          keras.layers.Dense(100,activation='relu',input_shape=(784,)),\n",
        "#                          keras.layers.Dense(10,activation='softmax')\n",
        "# ])\n",
        "\n",
        "# model.compile(loss='sparse_categorical_crossentropy',metrics='accuracy')"
      ],
      "metadata": {
        "id": "J23QSCokDS_1"
      },
      "execution_count": 152,
      "outputs": []
    },
    {
      "cell_type": "code",
      "source": [
        "## 3.딥러닝 선언. (셋중 하나만) ## 권장.\n",
        "model = keras.Sequential()\n",
        "# model.add(keras.layers.Dense(100,activation='relu',input_shape=(784,)))\n",
        "model.add(keras.layers.Flatten(input_shape=(28,28)))\n",
        "model.add(keras.layers.Dense(100,activation='relu'))\n",
        "model.add(keras.layers.Dense(10,activation='softmax',name='LAST_DENSE')) ## 마지막 층은 클래스 숫자와 같이.\n",
        "model.compile(loss='sparse_categorical_crossentropy',metrics='accuracy')"
      ],
      "metadata": {
        "id": "T43ti2esBAlV"
      },
      "execution_count": 153,
      "outputs": []
    },
    {
      "cell_type": "code",
      "source": [
        "## 훈련 - 2차원데이터\n",
        "model.fit(train_scaled,train_label,epochs=5)"
      ],
      "metadata": {
        "colab": {
          "base_uri": "https://localhost:8080/"
        },
        "id": "9aa8LsZopMod",
        "outputId": "e6f68bc1-1289-44f7-dd39-249681f1de57"
      },
      "execution_count": 154,
      "outputs": [
        {
          "output_type": "stream",
          "name": "stdout",
          "text": [
            "Epoch 1/5\n",
            "1875/1875 [==============================] - 5s 3ms/step - loss: 0.5090 - accuracy: 0.8180\n",
            "Epoch 2/5\n",
            "1875/1875 [==============================] - 5s 3ms/step - loss: 0.3801 - accuracy: 0.8636\n",
            "Epoch 3/5\n",
            "1875/1875 [==============================] - 5s 3ms/step - loss: 0.3477 - accuracy: 0.8753\n",
            "Epoch 4/5\n",
            "1875/1875 [==============================] - 5s 3ms/step - loss: 0.3317 - accuracy: 0.8828\n",
            "Epoch 5/5\n",
            "1875/1875 [==============================] - 5s 3ms/step - loss: 0.3202 - accuracy: 0.8880\n"
          ]
        },
        {
          "output_type": "execute_result",
          "data": {
            "text/plain": [
              "<keras.callbacks.History at 0x7f7754e57790>"
            ]
          },
          "metadata": {},
          "execution_count": 154
        }
      ]
    },
    {
      "cell_type": "code",
      "source": [
        "model.summary()"
      ],
      "metadata": {
        "colab": {
          "base_uri": "https://localhost:8080/"
        },
        "id": "gQXkitGyapPU",
        "outputId": "d0438a8f-cbdc-426d-ef7a-8a7674c62f78"
      },
      "execution_count": 155,
      "outputs": [
        {
          "output_type": "stream",
          "name": "stdout",
          "text": [
            "Model: \"sequential_12\"\n",
            "_________________________________________________________________\n",
            " Layer (type)                Output Shape              Param #   \n",
            "=================================================================\n",
            " flatten_2 (Flatten)         (None, 784)               0         \n",
            "                                                                 \n",
            " dense_22 (Dense)            (None, 100)               78500     \n",
            "                                                                 \n",
            " LAST_DENSE (Dense)          (None, 10)                1010      \n",
            "                                                                 \n",
            "=================================================================\n",
            "Total params: 79,510\n",
            "Trainable params: 79,510\n",
            "Non-trainable params: 0\n",
            "_________________________________________________________________\n"
          ]
        }
      ]
    },
    {
      "cell_type": "code",
      "source": [
        "##정확도\n",
        "score = model.evaluate(test_scaled,test_label)\n",
        "score"
      ],
      "metadata": {
        "colab": {
          "base_uri": "https://localhost:8080/"
        },
        "id": "BnDFHFuTpOKG",
        "outputId": "0b1971ea-dbc7-4723-d78f-6cdf30d12904"
      },
      "execution_count": 156,
      "outputs": [
        {
          "output_type": "stream",
          "name": "stdout",
          "text": [
            "313/313 [==============================] - 1s 2ms/step - loss: 0.4016 - accuracy: 0.8701\n"
          ]
        },
        {
          "output_type": "execute_result",
          "data": {
            "text/plain": [
              "[0.4016493260860443, 0.8701000213623047]"
            ]
          },
          "metadata": {},
          "execution_count": 156
        }
      ]
    }
  ]
}